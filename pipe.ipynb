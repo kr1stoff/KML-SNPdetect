{
 "cells": [
  {
   "cell_type": "code",
   "execution_count": 6,
   "metadata": {},
   "outputs": [],
   "source": [
    "from pathlib import Path\n",
    "import pandas as pd"
   ]
  },
  {
   "cell_type": "code",
   "execution_count": 7,
   "metadata": {},
   "outputs": [],
   "source": [
    "fqdir = \"/data/rawdata/BGI/iGT_drSNP_250324/20250321-T7S00934\"\n",
    "outdir = \"/data/mengxf/Project/KML250324_drSNP_iGT/work/250324/result\"\n",
    "shell_dir = Path(\"pipes\").resolve()\n",
    "shell_dir.mkdir(exist_ok=True)"
   ]
  },
  {
   "cell_type": "code",
   "execution_count": 8,
   "metadata": {},
   "outputs": [],
   "source": [
    "samples = pd.read_excel(\"../金墁利-A175V2-模拟测试.xlsx\", usecols=['Sample'])['Sample'].unique().tolist()"
   ]
  },
  {
   "cell_type": "code",
   "execution_count": 9,
   "metadata": {},
   "outputs": [],
   "source": [
    "with open(shell_dir / \"all_pipe.sh\", \"w\") as f:\n",
    "    for samp in samples:\n",
    "        sample_name = samp[-6:]\n",
    "        fq1 = f\"{fqdir}/{samp}_R1.fastq.gz\"\n",
    "        fq2 = f\"{fqdir}/{samp}_R2.fastq.gz\"\n",
    "\n",
    "        with open(\"pipe_template.sh\") as f1:\n",
    "            content = f1.read()\n",
    "        out_coutent = content.replace(\"{{tag_sample_name}}\", sample_name).replace(\n",
    "            \"{{tag_fastq1}}\", fq1).replace(\"{{tag_fastq2}}\", fq2).replace(\"{{tag_outdir}}\", outdir)\n",
    "\n",
    "        with open(f\"{shell_dir}/{sample_name}.sh\", \"w\") as f2:\n",
    "            f2.write(out_coutent)\n",
    "\n",
    "        f.write(f\"bash {shell_dir}/{sample_name}.sh &> {shell_dir}/{sample_name}.sh.log \\n\")"
   ]
  },
  {
   "cell_type": "code",
   "execution_count": null,
   "metadata": {},
   "outputs": [],
   "source": []
  }
 ],
 "metadata": {
  "kernelspec": {
   "display_name": "python3.12",
   "language": "python",
   "name": "python3"
  },
  "language_info": {
   "codemirror_mode": {
    "name": "ipython",
    "version": 3
   },
   "file_extension": ".py",
   "mimetype": "text/x-python",
   "name": "python",
   "nbconvert_exporter": "python",
   "pygments_lexer": "ipython3",
   "version": "3.12.2"
  }
 },
 "nbformat": 4,
 "nbformat_minor": 2
}
