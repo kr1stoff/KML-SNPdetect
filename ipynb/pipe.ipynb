{
 "cells": [
  {
   "cell_type": "code",
   "execution_count": 17,
   "metadata": {},
   "outputs": [],
   "source": [
    "from pathlib import Path\n",
    "import pandas as pd"
   ]
  },
  {
   "cell_type": "code",
   "execution_count": 20,
   "metadata": {},
   "outputs": [],
   "source": [
    "# 批量所有样本做变异调用\n",
    "fqdir = \"/data/rawdata/BGI/iGT_drSNP_250324/20250321-T7S00934\"\n",
    "outdir = \"/data/mengxf/Project/KML250324_drSNP_iGT/work/250324/result\"\n",
    "shell_dir = Path(\"../pipes\").resolve()\n",
    "shell_dir.mkdir(exist_ok=True)\n",
    "\n",
    "samples = pd.read_excel(\"../../金墁利-A175V2-模拟测试.xlsx\", usecols=['Sample'])['Sample'].unique().tolist()\n",
    "\n",
    "with open(shell_dir / \"all_pipe.sh\", \"w\") as f:\n",
    "    for samp in samples:\n",
    "        sample_name = samp[-6:]\n",
    "        fq1 = f\"{fqdir}/{samp}_R1.fastq.gz\"\n",
    "        fq2 = f\"{fqdir}/{samp}_R2.fastq.gz\"\n",
    "\n",
    "        with open(\"pipe_template.sh\") as f1:\n",
    "            content = f1.read()\n",
    "        out_coutent = content.replace(\"{{tag_sample_name}}\", sample_name).replace(\n",
    "            \"{{tag_fastq1}}\", fq1).replace(\"{{tag_fastq2}}\", fq2).replace(\"{{tag_outdir}}\", outdir)\n",
    "\n",
    "        with open(f\"{shell_dir}/{sample_name}.sh\", \"w\") as f2:\n",
    "            f2.write(out_coutent)\n",
    "\n",
    "        f.write(f\"bash {shell_dir}/{sample_name}.sh &> {shell_dir}/{sample_name}.sh.log \\n\")"
   ]
  },
  {
   "cell_type": "markdown",
   "metadata": {},
   "source": [
    "合并所有表格数据"
   ]
  },
  {
   "cell_type": "code",
   "execution_count": 23,
   "metadata": {},
   "outputs": [],
   "source": [
    "sample_names = [samp[-6:] for samp in samples]\n",
    "# 第一个作为初始数据框\n",
    "sample_name = sample_names[0]\n",
    "df = pd.read_csv(f\"/data/mengxf/Project/KML250324_drSNP_iGT/work/250324/result/vcf/{sample_name}/{sample_name}.snp_anno.tsv\", sep=\"\\t\")\n",
    "df.rename(columns={\"DP\": \"DP_\"+sample_name, \"AF\": \"AF_\"+sample_name}, inplace=True)\n",
    "for sample_name in sample_names[1:]:\n",
    "    df2 = pd.read_csv(f\"/data/mengxf/Project/KML250324_drSNP_iGT/work/250324/result/vcf/{sample_name}/{sample_name}.snp_anno.tsv\", sep=\"\\t\")\n",
    "    df2.rename(columns={\"DP\": \"DP_\"+sample_name, \"AF\": \"AF_\"+sample_name}, inplace=True)\n",
    "    df = pd.merge(df, df2, on=[\"#RS_ID\", \"CHROM\", \"POS\", \"REF\", \"ALT\"], how=\"outer\")\n",
    "# 输出\n",
    "with pd.ExcelWriter(\"../result/all_samples_table.xlsx\") as writer:\n",
    "    df.to_excel(writer, sheet_name=\"all\", index=False)\n",
    "    # 输出删除 DP_ 的列\n",
    "    df.drop(columns=[col for col in df.columns if col.startswith(\"DP_\")], inplace=True)\n",
    "    df.to_excel(writer, sheet_name=\"no-DP\", index=False)"
   ]
  },
  {
   "cell_type": "code",
   "execution_count": null,
   "metadata": {},
   "outputs": [],
   "source": []
  }
 ],
 "metadata": {
  "kernelspec": {
   "display_name": "python3.12",
   "language": "python",
   "name": "python3"
  },
  "language_info": {
   "codemirror_mode": {
    "name": "ipython",
    "version": 3
   },
   "file_extension": ".py",
   "mimetype": "text/x-python",
   "name": "python",
   "nbconvert_exporter": "python",
   "pygments_lexer": "ipython3",
   "version": "3.12.2"
  }
 },
 "nbformat": 4,
 "nbformat_minor": 2
}
