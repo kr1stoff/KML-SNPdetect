{
 "cells": [
  {
   "cell_type": "code",
   "execution_count": 12,
   "metadata": {},
   "outputs": [],
   "source": [
    "# chr-pos - rs_id 字典\n",
    "rs_dict = {}\n",
    "with open(\"/data/mengxf/Project/KML250324_drSNP_iGT/work/250324/target/A175loci-hg19.freq-anno_with_ref_alt.tsv\") as f:\n",
    "    for line in f:\n",
    "        lns = line.strip().split(\"\\t\")\n",
    "        \"\"\"\n",
    "        {('chr1', '14155402'): ['rs7520386', 'G', 'A'],\n",
    "        ('chrX', '11314992'): ['/', '-', '-'],\n",
    "        \"\"\"\n",
    "        rs_dict[(lns[0], lns[1])] = (lns[2:])\n",
    "# rs_dict"
   ]
  },
  {
   "cell_type": "code",
   "execution_count": 13,
   "metadata": {},
   "outputs": [],
   "source": [
    "# 深度字典\n",
    "dp_dict = {}\n",
    "with open(\"/data/mengxf/Project/KML250324_drSNP_iGT/work/250324/result/align/8435A3/8435A3.aligned.recalibrated.bam.depth\") as f:\n",
    "    for line in f:\n",
    "        lns = line.strip().split(\"\\t\")\n",
    "        # depth 和 vcf 位置一致\n",
    "        dp_dict[(lns[0], lns[1])] = lns[2]"
   ]
  },
  {
   "cell_type": "code",
   "execution_count": 14,
   "metadata": {},
   "outputs": [],
   "source": [
    "vcf_dict = {}\n",
    "with open(\"/data/mengxf/Project/KML250324_drSNP_iGT/work/250324/result/vcf/8435A3/8435A3.lofreq.vcf\") as f:\n",
    "    for line in f:\n",
    "        if line.startswith(\"##\"):\n",
    "            continue\n",
    "        elif line.startswith(\"#CHROM\"):\n",
    "            headers = line.strip().split(\"\\t\")\n",
    "            hdr = {hie[1]: hie[0] for hie in enumerate(headers)}\n",
    "        else:\n",
    "            lns = line.strip().split(\"\\t\")\n",
    "            chrom = lns[hdr[\"#CHROM\"]]\n",
    "            pos = lns[hdr[\"POS\"]]\n",
    "            ref = lns[hdr[\"REF\"]]\n",
    "            alt = lns[hdr[\"ALT\"]]\n",
    "            info = lns[hdr[\"INFO\"]]\n",
    "            info_dict = {i.split(\"=\")[0]: i.split(\"=\")[1] for i in info.split(\";\")}\n",
    "            info_dp = info_dict[\"DP\"]\n",
    "            info_af = info_dict[\"AF\"]\n",
    "            vcf_dict[(chrom, pos)] = [chrom, pos, ref, alt, info_dp, info_af]"
   ]
  },
  {
   "cell_type": "code",
   "execution_count": 15,
   "metadata": {},
   "outputs": [],
   "source": [
    "with open(\"snp_anno.tsv\", \"w\") as f:\n",
    "    f.write(\"#RS_ID\\tCHROM\\tPOS\\tREF\\tALT\\tDP\\tAF\\n\")\n",
    "    for k in rs_dict:\n",
    "        if k not in vcf_dict:\n",
    "            if k not in dp_dict:\n",
    "                dp_dict[k] = \"0\"\n",
    "            f.write('\\t'.join([rs_dict[k][0]] + list(k) + rs_dict[k][1:] + [dp_dict[k], \"0\"]) + \"\\n\")\n",
    "        else:\n",
    "            rs_id = rs_dict[k]\n",
    "            f.write('\\t'.join([rs_dict[k][0]] + vcf_dict[k]) + \"\\n\")"
   ]
  },
  {
   "cell_type": "code",
   "execution_count": null,
   "metadata": {},
   "outputs": [],
   "source": []
  }
 ],
 "metadata": {
  "kernelspec": {
   "display_name": "python3.12",
   "language": "python",
   "name": "python3"
  },
  "language_info": {
   "codemirror_mode": {
    "name": "ipython",
    "version": 3
   },
   "file_extension": ".py",
   "mimetype": "text/x-python",
   "name": "python",
   "nbconvert_exporter": "python",
   "pygments_lexer": "ipython3",
   "version": "3.12.2"
  }
 },
 "nbformat": 4,
 "nbformat_minor": 2
}
